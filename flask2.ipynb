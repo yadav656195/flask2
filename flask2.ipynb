{
 "cells": [
  {
   "cell_type": "code",
   "execution_count": null,
   "id": "9d70430d-2c5f-4422-a0fd-6d8c6266d598",
   "metadata": {},
   "outputs": [],
   "source": [
    "Q1. Explain GET and POST methods:\n",
    "\n",
    "GET Method: It is a request method used by the World Wide Web. By design, the GET request method requests data from a specified resource.\n",
    "It is one of the most common HTTP methods used when a browser sends a request to retrieve data from a server.\n",
    "POST Method: It is used to submit data to be processed to a specified resource. It is often used when uploading a file\n",
    "or submitting a completed web form."
   ]
  },
  {
   "cell_type": "code",
   "execution_count": null,
   "id": "a24c2afc-0814-49d1-ba17-f1c4bbd584c6",
   "metadata": {},
   "outputs": [],
   "source": [
    "Q2. Why is request used in Flask?\n",
    "\n",
    "In Flask, the request object allows you to access incoming data from the client, such as form data or query parameters,\n",
    "when handling HTTP requests. It provides a convenient way to interact with the data sent by the client to the server."
   ]
  },
  {
   "cell_type": "code",
   "execution_count": null,
   "id": "4da695e8-9f07-4920-aa25-48537d73e76a",
   "metadata": {},
   "outputs": [],
   "source": [
    "Q3. Why is redirect() used in Flask?\n",
    "\n",
    "The redirect() function in Flask is used to redirect the client's web browser to a different URL. This is useful when you want to\n",
    "direct the user to another page or route after processing a form or completing a specific action.\n"
   ]
  },
  {
   "cell_type": "code",
   "execution_count": null,
   "id": "23fe09bd-26fb-4739-ae16-285d6ea0e9a0",
   "metadata": {},
   "outputs": [],
   "source": [
    "Q4. What are templates in Flask? Why is the render_template() function used?\n",
    "Templates in Flask are used to separate the presentation layer from the business logic in web applications. \n",
    "They are typically HTML files with placeholders for dynamic content.\n",
    "The render_template() function in Flask is used to render HTML templates. It takes the name of the template file as\n",
    "an argument and can also pass additional data to be used within the template. This allows you to dynamically generate\n",
    "HTML pages based on data from your application."
   ]
  }
 ],
 "metadata": {
  "kernelspec": {
   "display_name": "Python 3 (ipykernel)",
   "language": "python",
   "name": "python3"
  },
  "language_info": {
   "codemirror_mode": {
    "name": "ipython",
    "version": 3
   },
   "file_extension": ".py",
   "mimetype": "text/x-python",
   "name": "python",
   "nbconvert_exporter": "python",
   "pygments_lexer": "ipython3",
   "version": "3.10.8"
  }
 },
 "nbformat": 4,
 "nbformat_minor": 5
}
